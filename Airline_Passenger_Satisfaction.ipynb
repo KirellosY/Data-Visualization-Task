{
  "metadata": {
    "kernelspec": {
      "name": "python",
      "display_name": "Python (Pyodide)",
      "language": "python"
    },
    "language_info": {
      "codemirror_mode": {
        "name": "python",
        "version": 3
      },
      "file_extension": ".py",
      "mimetype": "text/x-python",
      "name": "python",
      "nbconvert_exporter": "python",
      "pygments_lexer": "ipython3",
      "version": "3.8"
    },
    "colab": {
      "provenance": []
    }
  },
  "nbformat_minor": 4,
  "nbformat": 4,
  "cells": [
    {
      "cell_type": "code",
      "source": "import pandas as pd\nimport numpy as np\nimport matplotlib.pyplot as plt\nimport seaborn as sns\nimport plotly.express as px",
      "metadata": {
        "id": "Jx1FzKROe_HD",
        "trusted": true
      },
      "outputs": [],
      "execution_count": null
    },
    {
      "cell_type": "code",
      "source": "# df1=pd.read_csv('/train.csv')\n# df2=pd.read_csv('/test.csv')\n# df = pd.concat([df1, df2], axis=0)",
      "metadata": {
        "id": "gX6t7DRbfMDZ",
        "trusted": true
      },
      "outputs": [],
      "execution_count": null
    },
    {
      "cell_type": "code",
      "source": "df=pd.read_csv('/content/train.csv')",
      "metadata": {
        "id": "EhPni3cign8u",
        "trusted": true
      },
      "outputs": [],
      "execution_count": null
    },
    {
      "cell_type": "code",
      "source": "df.head()",
      "metadata": {
        "colab": {
          "base_uri": "https://localhost:8080/",
          "height": 394
        },
        "id": "iegXMvBygyjq",
        "outputId": "febe4e19-fdd9-4cab-fee8-ce891cab269f",
        "trusted": true
      },
      "outputs": [],
      "execution_count": null
    },
    {
      "cell_type": "code",
      "source": "df.drop(['Unnamed: 0', 'id'], axis=1, inplace=True)",
      "metadata": {
        "id": "HjUuXgixheT4",
        "trusted": true
      },
      "outputs": [],
      "execution_count": null
    },
    {
      "cell_type": "markdown",
      "source": "# 1- General Analysis",
      "metadata": {
        "id": "psnS6arogjyi"
      }
    },
    {
      "cell_type": "code",
      "source": "df.shape",
      "metadata": {
        "colab": {
          "base_uri": "https://localhost:8080/"
        },
        "id": "k5i-VKuDheBT",
        "outputId": "8af15710-46a0-4094-c62c-d091114d1490",
        "trusted": true
      },
      "outputs": [],
      "execution_count": null
    },
    {
      "cell_type": "code",
      "source": "df.info()",
      "metadata": {
        "colab": {
          "base_uri": "https://localhost:8080/"
        },
        "id": "zt5LAtxsg4-Y",
        "outputId": "98e8d962-9ead-4e60-e3e9-9a13910934ad",
        "trusted": true
      },
      "outputs": [],
      "execution_count": null
    },
    {
      "cell_type": "code",
      "source": "df.isna().sum()",
      "metadata": {
        "colab": {
          "base_uri": "https://localhost:8080/",
          "height": 805
        },
        "id": "nlTttH6tjJ0L",
        "outputId": "6ed94b89-fdec-4419-d251-d4870479cc64",
        "trusted": true
      },
      "outputs": [],
      "execution_count": null
    },
    {
      "cell_type": "code",
      "source": "#df['Arrival Delay in Minutes'].fillna(df['Arrival Delay in Minutes'].mean(), inplace=True)\ndf.dropna(inplace=True)",
      "metadata": {
        "id": "vt10Uzjii0uJ",
        "trusted": true
      },
      "outputs": [],
      "execution_count": null
    },
    {
      "cell_type": "code",
      "source": "df.duplicated().sum() / len(df) *100",
      "metadata": {
        "colab": {
          "base_uri": "https://localhost:8080/"
        },
        "id": "eoVn4jhbjrZ5",
        "outputId": "b175ab26-521d-4836-ea07-7b514a131f14",
        "trusted": true
      },
      "outputs": [],
      "execution_count": null
    },
    {
      "cell_type": "code",
      "source": "df.describe()",
      "metadata": {
        "colab": {
          "base_uri": "https://localhost:8080/",
          "height": 355
        },
        "id": "8pQgBQ5qg8zW",
        "outputId": "5853a77a-b250-4fc5-8b44-187bbb8f3ef3",
        "trusted": true
      },
      "outputs": [],
      "execution_count": null
    },
    {
      "cell_type": "markdown",
      "source": "# 2- Gender",
      "metadata": {
        "id": "RvOhBcY4X4eT"
      }
    },
    {
      "cell_type": "code",
      "source": "gender=df['Gender'].value_counts()",
      "metadata": {
        "id": "ejhvsvbOl363",
        "trusted": true
      },
      "outputs": [],
      "execution_count": null
    },
    {
      "cell_type": "code",
      "source": "fig = px.pie(df, names=gender.index, values=gender.values, color= gender.index,\n             color_discrete_map={'Female':'cyan',\n                                 'Male':'darkblue'})\nfig.show()",
      "metadata": {
        "colab": {
          "base_uri": "https://localhost:8080/",
          "height": 542
        },
        "id": "3zdNiGgQlgdh",
        "outputId": "10bceebc-d6d8-43e2-bb2f-335a575da24e",
        "trusted": true
      },
      "outputs": [],
      "execution_count": null
    },
    {
      "cell_type": "markdown",
      "source": "# 3- Customer Type",
      "metadata": {
        "id": "z03eMas5YCsL"
      }
    },
    {
      "cell_type": "code",
      "source": "df['Customer Type'].unique()",
      "metadata": {
        "colab": {
          "base_uri": "https://localhost:8080/"
        },
        "id": "ZxLO4XWjjUqU",
        "outputId": "62c101a0-4ac3-4982-a202-e3710fbc7904",
        "trusted": true
      },
      "outputs": [],
      "execution_count": null
    },
    {
      "cell_type": "code",
      "source": "fig, axs = plt.subplot_mosaic('''AABB\n                                 AABB\n                                 ''')\n\naxs['A'].bar(df['Customer Type'].value_counts().index, df['Customer Type'].value_counts().values, color=sns.color_palette('Set1'))\naxs['A'].set_title('Customer Type')\naxs['B'].pie(df['Customer Type'].value_counts(), labels=df['Customer Type'].unique(), startangle=110, autopct='%1.1f%%', colors=sns.color_palette('pastel'))\naxs['B'].set_title('Customer Type')\n\nplt.show()",
      "metadata": {
        "colab": {
          "base_uri": "https://localhost:8080/",
          "height": 452
        },
        "id": "dGCtmj4Mriu6",
        "outputId": "a21a6aec-58c9-47c4-f75b-d16ecafdc484",
        "trusted": true
      },
      "outputs": [],
      "execution_count": null
    },
    {
      "cell_type": "markdown",
      "source": "# 4- Age",
      "metadata": {
        "id": "ac7UaanKYPcm"
      }
    },
    {
      "cell_type": "code",
      "source": "df['Age'].max()-df['Age'].min()",
      "metadata": {
        "colab": {
          "base_uri": "https://localhost:8080/"
        },
        "id": "XiePaczj4VLU",
        "outputId": "97e30721-581d-44eb-d433-d3585a3f9eaf",
        "trusted": true
      },
      "outputs": [],
      "execution_count": null
    },
    {
      "cell_type": "code",
      "source": "# sns.kdeplot(data=df, x='Age', fill=True)\n# plt.hist(df['Age'], bins=8, color='darkblue')\n# plt.scatter(df['Age'].value_counts().index, df['Age'].value_counts().values)\n\nsns.histplot(df['Age'], bins=30, kde=True, color='green')\nplt.title(\"Age Distribution\")\nplt.xlabel(\"Age\")\nplt.ylabel(\"Count\")\nplt.show()",
      "metadata": {
        "colab": {
          "base_uri": "https://localhost:8080/",
          "height": 472
        },
        "id": "z__I6H4Nzt8S",
        "outputId": "d6be1f8c-90f7-451a-a964-28284e07051f",
        "trusted": true
      },
      "outputs": [],
      "execution_count": null
    },
    {
      "cell_type": "markdown",
      "source": "# 5- Relationship between Age and Customer Type",
      "metadata": {
        "id": "26-WFP_WYWlX"
      }
    },
    {
      "cell_type": "code",
      "source": "sns.kdeplot(data=df, x='Age', hue='Customer Type', fill=True)",
      "metadata": {
        "colab": {
          "base_uri": "https://localhost:8080/",
          "height": 466
        },
        "id": "ZiNnaVkoyDzZ",
        "outputId": "f2881fe8-52b0-4793-816a-2755d94db195",
        "trusted": true
      },
      "outputs": [],
      "execution_count": null
    },
    {
      "cell_type": "markdown",
      "source": "# 6- splitting Age into Groups",
      "metadata": {
        "id": "pIKZ6driYolG"
      }
    },
    {
      "cell_type": "code",
      "source": "bins = [0, 18, 40, 60, 100]\nlabels = ['Children 0-18', 'Youth 19-40', 'Adults 41-60', 'Elders 61-100']\n\n# Create the age group column\ndf['Age_Group'] = pd.cut(df['Age'], bins=bins, labels=labels, right=True)\n\n# Calculate the counts of each age group\nage_groups= df['Age_Group'].value_counts()\n",
      "metadata": {
        "id": "wOlafcWnzHkE",
        "trusted": true
      },
      "outputs": [],
      "execution_count": null
    },
    {
      "cell_type": "code",
      "source": "from wordcloud import WordCloud",
      "metadata": {
        "id": "icESWjMYwxxG",
        "trusted": true
      },
      "outputs": [],
      "execution_count": null
    },
    {
      "cell_type": "markdown",
      "source": "# 7- Age Group Distribution",
      "metadata": {
        "id": "lck6pfC_Zb7m"
      }
    },
    {
      "cell_type": "code",
      "source": "wordcloud = WordCloud(width=800, height=400, background_color='white').generate_from_frequencies(age_groups)\n\nplt.figure(figsize=(10, 5))\nplt.imshow(wordcloud, interpolation=\"bilinear\")\nplt.axis(\"off\")\nplt.show()",
      "metadata": {
        "colab": {
          "base_uri": "https://localhost:8080/",
          "height": 422
        },
        "id": "tjvKw1MVwuWI",
        "outputId": "7c6dfde1-02bc-446c-a146-aa42e88fb70b",
        "trusted": true
      },
      "outputs": [],
      "execution_count": null
    },
    {
      "cell_type": "code",
      "source": "fig = px.pie(\n    names=age_groups.index,\n    values=age_groups.values,\n    title='Age Group Distribution')\nfig.show()",
      "metadata": {
        "colab": {
          "base_uri": "https://localhost:8080/",
          "height": 542
        },
        "id": "0amtmuV912F7",
        "outputId": "85d2b61c-04d1-4625-a505-755c69ff694d",
        "trusted": true
      },
      "outputs": [],
      "execution_count": null
    },
    {
      "cell_type": "markdown",
      "source": "# 8- Type of Travel",
      "metadata": {
        "id": "rzfkELOfY3ER"
      }
    },
    {
      "cell_type": "code",
      "source": "df['Type of Travel'].unique()",
      "metadata": {
        "colab": {
          "base_uri": "https://localhost:8080/"
        },
        "id": "n_o9caIA5xfm",
        "outputId": "412dbe91-5081-43dd-923c-7da530abf220",
        "trusted": true
      },
      "outputs": [],
      "execution_count": null
    },
    {
      "cell_type": "code",
      "source": "sns.countplot(x='Type of Travel', data=df,color='darkblue')",
      "metadata": {
        "colab": {
          "base_uri": "https://localhost:8080/",
          "height": 466
        },
        "id": "ZO-b0wrOlcG5",
        "outputId": "49fe659e-7485-43c7-d696-44e640656506",
        "trusted": true
      },
      "outputs": [],
      "execution_count": null
    },
    {
      "cell_type": "code",
      "source": "travel_type_counts = df.groupby('Age_Group')['Type of Travel'].value_counts().reset_index(name='Count')\ntravel_type_counts",
      "metadata": {
        "colab": {
          "base_uri": "https://localhost:8080/",
          "height": 389
        },
        "id": "eMfTP0nlAA1g",
        "outputId": "32c1085c-2e02-4329-be86-f23250fc3bbf",
        "trusted": true
      },
      "outputs": [],
      "execution_count": null
    },
    {
      "cell_type": "markdown",
      "source": "# 9- Relationship between Age Groups and Type of Travel",
      "metadata": {
        "id": "Gy0zDEtaZoud"
      }
    },
    {
      "cell_type": "code",
      "source": "plt.figure(figsize=(8, 6))\nsns.barplot(data=travel_type_counts, x='Age_Group', y='Count', hue='Type of Travel')\n\n# Labels and Title\nplt.xlabel('Age Groups')\nplt.ylabel('Frequency')\nplt.title('Travel Type Frequency by Age Group')\n\n# Show Plot\nplt.legend(title=\"Type of Travel\")\nplt.show()",
      "metadata": {
        "colab": {
          "base_uri": "https://localhost:8080/",
          "height": 564
        },
        "id": "WEaKs3iq6Cvg",
        "outputId": "78809a21-478f-4c14-95c7-e5b618ee2d75",
        "trusted": true
      },
      "outputs": [],
      "execution_count": null
    },
    {
      "cell_type": "code",
      "source": "df['Class'].value_counts()",
      "metadata": {
        "colab": {
          "base_uri": "https://localhost:8080/",
          "height": 209
        },
        "id": "D9Uy2TwcJQd-",
        "outputId": "b20f42d8-3753-4488-8d55-14ff775a4517",
        "trusted": true
      },
      "outputs": [],
      "execution_count": null
    },
    {
      "cell_type": "code",
      "source": "class_counts = df.groupby('Age_Group')['Class'].value_counts().reset_index(name='Count')\nclass_counts",
      "metadata": {
        "colab": {
          "base_uri": "https://localhost:8080/",
          "height": 515
        },
        "id": "fE_p9_SyJsed",
        "outputId": "36b35130-8cc6-4471-c17a-b60b7e45b5a3",
        "trusted": true
      },
      "outputs": [],
      "execution_count": null
    },
    {
      "cell_type": "markdown",
      "source": "# 10- Relationship between Age Groups and Class",
      "metadata": {
        "id": "jOYtnH7wZ-DU"
      }
    },
    {
      "cell_type": "code",
      "source": "plt.figure(figsize=(8, 6))\nsns.barplot(data=class_counts, x='Age_Group', y='Count', hue='Class')\n\n# Labels and Title\nplt.xlabel('Age Groups')\nplt.ylabel('Frequency')\nplt.title('Class Frequency by Age Group')\n\n# Show Plot\nplt.legend(title=\"Class\")\nplt.show()",
      "metadata": {
        "colab": {
          "base_uri": "https://localhost:8080/",
          "height": 564
        },
        "id": "0YlPmS5JJsSC",
        "outputId": "e13aa1e9-b4fa-49c1-cb50-652f8f9b5986",
        "trusted": true
      },
      "outputs": [],
      "execution_count": null
    },
    {
      "cell_type": "code",
      "source": "df_pivot = class_counts.pivot(index=\"Age_Group\", columns=\"Class\", values=\"Count\")\n\n# Creating the heatmap\nfig = px.imshow(df_pivot,\n                labels=dict(x=\"Class\", y=\"Age Group\", color=\"Count\"),\n                x=df_pivot.columns,\n                y=df_pivot.index,\n                color_continuous_scale=\"Blues\")\n\nfig.update_layout(title=\"Satisfaction Count per Age Group & Class\")\nfig.show()",
      "metadata": {
        "colab": {
          "base_uri": "https://localhost:8080/",
          "height": 542
        },
        "id": "rX4n4fsvkgGI",
        "outputId": "445d5a74-c756-4155-e947-3dc804c1ee9f",
        "trusted": true
      },
      "outputs": [],
      "execution_count": null
    },
    {
      "cell_type": "markdown",
      "source": "# 11- Flight Distance",
      "metadata": {
        "id": "oaND0VeXaRNY"
      }
    },
    {
      "cell_type": "code",
      "source": "print('Pecentage of Flight Distance lower than 100 km: ' + str(df[df['Flight Distance']<100].size/len(df)*100))\nprint(\"In reality,There is no flight distances lower than 100.\\nBut since that its amount is about 20% of the data I will not remove it\")",
      "metadata": {
        "colab": {
          "base_uri": "https://localhost:8080/"
        },
        "id": "0ZzuBF5pMn_V",
        "outputId": "57ea66ba-b9c6-4d50-b40e-2d61c1a9c7c3",
        "trusted": true
      },
      "outputs": [],
      "execution_count": null
    },
    {
      "cell_type": "code",
      "source": "sns.kdeplot(data= df, x='Flight Distance', fill=True)",
      "metadata": {
        "colab": {
          "base_uri": "https://localhost:8080/",
          "height": 466
        },
        "id": "srIFi3kjMn2E",
        "outputId": "ad50c105-907f-42c7-91d8-4d40c5f73595",
        "trusted": true
      },
      "outputs": [],
      "execution_count": null
    },
    {
      "cell_type": "markdown",
      "source": "# 12- Satisfaction",
      "metadata": {
        "id": "UAN5uMxzatBs"
      }
    },
    {
      "cell_type": "code",
      "source": "df['satisfaction'].value_counts()",
      "metadata": {
        "colab": {
          "base_uri": "https://localhost:8080/",
          "height": 178
        },
        "id": "WViV8Hp9SxpZ",
        "outputId": "2434ec9c-367a-42e2-9448-7cce56a014e1",
        "trusted": true
      },
      "outputs": [],
      "execution_count": null
    },
    {
      "cell_type": "code",
      "source": "sns.countplot(x='satisfaction', data=df,color='darkblue')",
      "metadata": {
        "colab": {
          "base_uri": "https://localhost:8080/",
          "height": 466
        },
        "id": "6_-IH8WlamV8",
        "outputId": "2df49643-94f1-4884-ed35-a1661dc8b76c",
        "trusted": true
      },
      "outputs": [],
      "execution_count": null
    },
    {
      "cell_type": "code",
      "source": "class_satisfaction = df.groupby('Class')['satisfaction'].value_counts().reset_index(name='Count')\nclass_satisfaction",
      "metadata": {
        "colab": {
          "base_uri": "https://localhost:8080/",
          "height": 237
        },
        "id": "MaE18hz-fgxL",
        "outputId": "a2b05d77-1204-4658-9f5f-9a306b988196",
        "trusted": true
      },
      "outputs": [],
      "execution_count": null
    },
    {
      "cell_type": "markdown",
      "source": "# 13- Relationship between satisfaction and Class",
      "metadata": {
        "id": "qV6wFSZPa5_o"
      }
    },
    {
      "cell_type": "code",
      "source": "plt.figure(figsize=(8, 6))\nsns.barplot(data=class_satisfaction , x='Class', y='Count', hue='satisfaction')\n\n# Labels and Title\nplt.xlabel('Class')\nplt.ylabel('satisfaction')\nplt.title('Class satisfaction')\n\n# Show Plot\nplt.legend(title=\"satisfaction\")\nplt.show()",
      "metadata": {
        "colab": {
          "base_uri": "https://localhost:8080/",
          "height": 564
        },
        "id": "Wgh3UK6VgLWz",
        "outputId": "45a7902f-a2ee-4bae-b09d-a64c59197150",
        "trusted": true
      },
      "outputs": [],
      "execution_count": null
    },
    {
      "cell_type": "code",
      "source": "class_satisfaction.head()",
      "metadata": {
        "colab": {
          "base_uri": "https://localhost:8080/",
          "height": 206
        },
        "id": "9Jf6KUKAjLSl",
        "outputId": "6abdfe51-68f8-40b4-b431-2aadb75c96fd",
        "trusted": true
      },
      "outputs": [],
      "execution_count": null
    },
    {
      "cell_type": "code",
      "source": "class_satisfaction['satisfaction'] = class_satisfaction['satisfaction'].map({'neutral or dissatisfied': 0, 'satisfied': 1})\nclass_satisfaction = class_satisfaction[class_satisfaction['satisfaction']==1]\nclass_satisfaction.head()",
      "metadata": {
        "colab": {
          "base_uri": "https://localhost:8080/",
          "height": 143
        },
        "id": "VeXk4y7chawc",
        "outputId": "97e6d205-900e-4ded-e34b-081abc689e01",
        "trusted": true
      },
      "outputs": [],
      "execution_count": null
    },
    {
      "cell_type": "code",
      "source": "class_satisfaction.drop('satisfaction', axis=1, inplace=True)\nclass_satisfaction.head()",
      "metadata": {
        "colab": {
          "base_uri": "https://localhost:8080/",
          "height": 265
        },
        "id": "VzOp8_KGjSGi",
        "outputId": "af2f77a4-a7c2-4c1f-f3cb-f089f571bbc8",
        "trusted": true
      },
      "outputs": [],
      "execution_count": null
    },
    {
      "cell_type": "code",
      "source": "fig = px.imshow([class_satisfaction[\"Count\"].values],\n                labels=dict(x=\"Class\", y=\"Satisfied\"),\n                x=class_satisfaction[\"Class\"],\n                color_continuous_scale=\"Blues\")\n\nfig.update_layout(title=\"Satisfaction Count per Class\")\nfig.show()",
      "metadata": {
        "colab": {
          "base_uri": "https://localhost:8080/",
          "height": 542
        },
        "id": "SHvHjDwZgEzm",
        "outputId": "27f93a79-5bd6-4f47-a142-186e8164755b",
        "trusted": true
      },
      "outputs": [],
      "execution_count": null
    },
    {
      "cell_type": "markdown",
      "source": "# 14- Relationship between satisfaction and Fight Distance",
      "metadata": {
        "id": "BHs_suwCbGpf"
      }
    },
    {
      "cell_type": "code",
      "source": "# px.box(df, x=\"satisfaction\", y=\"Flight Distance\", title=\"Box Plot Example\")\nsns.boxplot(x=\"satisfaction\", y=\"Flight Distance\" , data=df)",
      "metadata": {
        "colab": {
          "base_uri": "https://localhost:8080/",
          "height": 466
        },
        "id": "XmMVov9uSxl4",
        "outputId": "d9d6fe72-6eee-4183-81cf-41a176fe0638",
        "trusted": true
      },
      "outputs": [],
      "execution_count": null
    },
    {
      "cell_type": "markdown",
      "source": "# 15- Services Evaluation",
      "metadata": {
        "id": "RCUqCcuQbR2O"
      }
    },
    {
      "cell_type": "code",
      "source": "# selected_columns = df.iloc[:, 6:20]\n\n# # Melting the DataFrame (convert wide to long format)\n# df_melted = selected_columns.melt(var_name=\"Feature\", value_name=\"Value\")\n\n# # Plot using Seaborn\n# plt.figure(figsize=(10, 12))  # Adjust figure size\n# sns.boxplot(data=df_melted, x=\"Value\", y=\"Feature\", palette=\"Set2\")\n\n# plt.title(\"Box Plot of Features\")\n# plt.xlabel(\"Stars\")\n# plt.ylabel(\"Services evaluation\")\n# plt.show()\n\nselected_columns = df.iloc[:, 6:20]\n\n# Melting the DataFrame (convert wide to long format)\ndf_melted = selected_columns.melt(var_name=\"Feature\", value_name=\"Value\")\n\n# Create Box Plot (ONE figure, all features on Y-axis)\nfig = px.box(df_melted, x=\"Value\", y=\"Feature\", color=\"Feature\",\n             title=\"Box Plot of Features (Stars 0-5)\",\n             width=1000, height=800)\n\n\nfig.show()",
      "metadata": {
        "colab": {
          "base_uri": "https://localhost:8080/",
          "height": 817
        },
        "id": "fVpYSXV6ZSNS",
        "outputId": "25f2085b-e6d5-4511-b0c4-df03c3454dca",
        "trusted": true
      },
      "outputs": [],
      "execution_count": null
    },
    {
      "cell_type": "markdown",
      "source": "# 16- Relationship between satisfaction and Services Evaluation",
      "metadata": {
        "id": "y0SYeP1ibr5-"
      }
    },
    {
      "cell_type": "code",
      "source": "import plotly.graph_objects as go\nimport plotly.subplots as sp",
      "metadata": {
        "id": "4GLc1QJCXNnR",
        "trusted": true
      },
      "outputs": [],
      "execution_count": null
    },
    {
      "cell_type": "code",
      "source": "columns_to_plot = df.columns[6:20]\n\nfig = sp.make_subplots(rows=1, cols=len(columns_to_plot), subplot_titles=columns_to_plot)\n\n# Add box plots for each column\nfor i, col in enumerate(columns_to_plot):\n    fig.add_trace(\n        go.Box(x=df[\"satisfaction\"], y=df[col], name=col),\n        row=1, col=i+1\n    )\n\n# Update layout\nfig.update_layout(\n    title=\"Multiple Box Plots of Satisfaction vs Features\",\n    showlegend=False,\n    height=500,\n    width=250 * len(columns_to_plot),\n)\n\n# Show figure\nfig.show()",
      "metadata": {
        "colab": {
          "base_uri": "https://localhost:8080/",
          "height": 537
        },
        "id": "33FIgWxcXNjw",
        "outputId": "f36289e4-0854-4bc7-94ab-0a2a8ae6c80d",
        "trusted": true
      },
      "outputs": [],
      "execution_count": null
    },
    {
      "cell_type": "markdown",
      "source": "# 17- Departure Delay in Minutes",
      "metadata": {
        "id": "AtjvO8OFb7K1"
      }
    },
    {
      "cell_type": "code",
      "source": "sns.kdeplot(data= df, x='Departure Delay in Minutes', fill=True)",
      "metadata": {
        "colab": {
          "base_uri": "https://localhost:8080/",
          "height": 466
        },
        "id": "15HJhSEfnORU",
        "outputId": "6a1d4958-6f44-4aba-a51c-b90e5c943eaa",
        "trusted": true
      },
      "outputs": [],
      "execution_count": null
    },
    {
      "cell_type": "markdown",
      "source": "# 18- Relationship between Departure Delay and Arrival Delay",
      "metadata": {
        "id": "gpSuVV0ecFU8"
      }
    },
    {
      "cell_type": "code",
      "source": "px.scatter(df, x='Departure Delay in Minutes', y='Arrival Delay in Minutes')",
      "metadata": {
        "colab": {
          "base_uri": "https://localhost:8080/",
          "height": 542
        },
        "id": "XSEOOqRLnONy",
        "outputId": "9b12c62f-3f55-4fef-c0dc-60d357464884",
        "trusted": true
      },
      "outputs": [],
      "execution_count": null
    },
    {
      "cell_type": "code",
      "source": "df['Delay'] = df['Departure Delay in Minutes'] + df['Arrival Delay in Minutes']",
      "metadata": {
        "id": "UZsHFdKtWL8x",
        "trusted": true
      },
      "outputs": [],
      "execution_count": null
    },
    {
      "cell_type": "markdown",
      "source": "# 19- Relationship between satisfaction and Delay",
      "metadata": {
        "id": "7At_dYrjdNdP"
      }
    },
    {
      "cell_type": "code",
      "source": "sns.scatterplot(data=df, x=\"Flight Distance\", y=\"Delay\", alpha=0.65, hue=\"satisfaction\")\nplt.title(\"Flight Distance & Delay vs Satisfaction\")\nplt.xlabel(\"Flight Distance\")\nplt.ylabel(\"Delay\")\nplt.legend(title=\"Satisfaction\")\nplt.show()",
      "metadata": {
        "colab": {
          "base_uri": "https://localhost:8080/",
          "height": 472
        },
        "id": "GN1bbdKGWRxL",
        "outputId": "e1c9becd-fd94-45bb-d679-b2fe13acba80",
        "trusted": true
      },
      "outputs": [],
      "execution_count": null
    },
    {
      "cell_type": "markdown",
      "source": "# 20- Correlations",
      "metadata": {
        "id": "iNOfaJF_dZJ1"
      }
    },
    {
      "cell_type": "code",
      "source": "numerical_cols = df.select_dtypes(include=['number'])\ncorr_matrix = numerical_cols.corr()\nplt.figure(figsize=(13, 7))\nsns.heatmap(corr_matrix, annot=True, cmap=\"coolwarm\", linewidths=0.5)\nplt.title(\"Correlation Matrix Heatmap\")\nplt.show()",
      "metadata": {
        "colab": {
          "base_uri": "https://localhost:8080/",
          "height": 845
        },
        "id": "s1-uu9yuWp_a",
        "outputId": "df292bee-77c2-454c-f23d-7859db8bc33f",
        "trusted": true
      },
      "outputs": [],
      "execution_count": null
    },
    {
      "cell_type": "code",
      "source": "df.drop(['Departure Delay in Minutes', 'Arrival Delay in Minutes'], axis=1, inplace=True)\n# We can drop these two columns because they are high correlated with Delay column",
      "metadata": {
        "id": "Lttfqe5xW8uJ",
        "trusted": true
      },
      "outputs": [],
      "execution_count": null
    },
    {
      "cell_type": "code",
      "source": "# Categorical with Numerical\n# ( Bar Plot or Box Plot)\n\n# Numerical with a Group of Categorical and Numerical\n# ( Scatter Plot, Violin Plot or line plot with hue)\n\n# Categorical with a Group of Categorical and Numerical\n# (Heatmap, Clustered Bar Plot or bar chart )",
      "metadata": {
        "id": "lRjnTpHbvTX4",
        "trusted": true
      },
      "outputs": [],
      "execution_count": null
    }
  ]
}